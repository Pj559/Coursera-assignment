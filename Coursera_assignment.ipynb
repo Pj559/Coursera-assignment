{
 "cells": [
  {
   "cell_type": "markdown",
   "id": "6417c9f1-1943-42f7-aaa5-70885b006ab8",
   "metadata": {
    "tags": []
   },
   "source": [
    "# My Jupyter Notebook on IBM Watson Studio"
   ]
  },
  {
   "cell_type": "markdown",
   "id": "1eb4022b-8f2d-497e-a55d-6191d52bcf93",
   "metadata": {},
   "source": [
    "**Peter B.**\n",
    "Student"
   ]
  },
  {
   "cell_type": "markdown",
   "id": "48e0a802-04a3-434e-8e03-f43ba9c94c91",
   "metadata": {},
   "source": [
    "*I am interested in data science because it can help me to better work with data and build on the knowledge I have gained during the Google Data Analytics Course*"
   ]
  },
  {
   "cell_type": "markdown",
   "id": "18455f47-9709-4479-b819-9189b49a09d8",
   "metadata": {},
   "source": [
    "### Cell 5 will contain the traditional \"Hello World\" print"
   ]
  },
  {
   "cell_type": "code",
   "execution_count": 3,
   "id": "36ef2648-cf59-4e6c-be62-e0712778e9e3",
   "metadata": {},
   "outputs": [
    {
     "name": "stdout",
     "output_type": "stream",
     "text": [
      "Hello World\n"
     ]
    }
   ],
   "source": [
    "print(\"Hello World\")"
   ]
  },
  {
   "cell_type": "markdown",
   "id": "175478a8-4e7d-43fd-b3ac-87eb4c09a55d",
   "metadata": {},
   "source": [
    "1. First\n",
    "2. Second\n",
    "3. Third\n",
    "\n",
    "[Google](https://www.google.com/)\n",
    "\n",
    ">Blockquote 1"
   ]
  }
 ],
 "metadata": {
  "kernelspec": {
   "display_name": "Python",
   "language": "python",
   "name": "conda-env-python-py"
  },
  "language_info": {
   "codemirror_mode": {
    "name": "ipython",
    "version": 3
   },
   "file_extension": ".py",
   "mimetype": "text/x-python",
   "name": "python",
   "nbconvert_exporter": "python",
   "pygments_lexer": "ipython3",
   "version": "3.7.12"
  }
 },
 "nbformat": 4,
 "nbformat_minor": 5
}
